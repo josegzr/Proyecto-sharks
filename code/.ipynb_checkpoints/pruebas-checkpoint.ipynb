{
 "cells": [
  {
   "cell_type": "code",
   "execution_count": null,
   "id": "2854d955",
   "metadata": {},
   "outputs": [],
   "source": [
    "# PRUEBAS: voy a comparar la fila de country con Area y ver so puedo limpiar nulos o remplazar nulos por nombres"
   ]
  },
  {
   "cell_type": "code",
   "execution_count": null,
   "id": "d601c859",
   "metadata": {},
   "outputs": [],
   "source": [
    "#porque no funciona\n",
    "for e, row in data_sharks.iterrows():\n",
    "    for e in data_sharks['Name']:\n",
    "        if 'M' in row['Sex ']:\n",
    "            data_sharks.at[e, 'nan'] = 'male'\n",
    "        elif 'F' in row['Sex ']:\n",
    "            data_sharks.at[e, 'nan'] = 'female'\n",
    "        else:\n",
    "            pass\n",
    "        "
   ]
  },
  {
   "cell_type": "code",
   "execution_count": null,
   "id": "49aa813e",
   "metadata": {},
   "outputs": [],
   "source": [
    "data_sharks['Country'] = data_sharks['Country'].str.lower()cdvfdvfvfverfverfv\n",
    "\n",
    "data_sharks.Country.unique()"
   ]
  },
  {
   "cell_type": "code",
   "execution_count": null,
   "id": "85d2f0d4",
   "metadata": {},
   "outputs": [],
   "source": [
    "name_f=data_sharks[data_sharks['Sex ']== 'nan']"
   ]
  },
  {
   "cell_type": "code",
   "execution_count": null,
   "id": "76bb815f",
   "metadata": {},
   "outputs": [],
   "source": [
    "name_f['Name'].unique()"
   ]
  },
  {
   "cell_type": "code",
   "execution_count": null,
   "id": "0a5a8408",
   "metadata": {},
   "outputs": [],
   "source": [
    "data_sharks.apply(lambda row: row.contains('nan')).any(axis=1)"
   ]
  },
  {
   "cell_type": "code",
   "execution_count": null,
   "id": "d5760096",
   "metadata": {},
   "outputs": [],
   "source": [
    "data_country=data_sharks[['Country', 'Area']]\n",
    "data_country"
   ]
  },
  {
   "cell_type": "code",
   "execution_count": null,
   "id": "4c9732da",
   "metadata": {},
   "outputs": [],
   "source": [
    "data_missing=data_country[(data_country['Country'].isnull()) & (data_country['Area'].isnull())]\n",
    "data_missing.index\n",
    "#data_sharks.iloc[data_country[(data_country['Country'].isnull()) & (data_country['Area'].isnull())].index] (sirve para comprobar que la funcion que estoy haciendo esta bien)\n"
   ]
  },
  {
   "cell_type": "code",
   "execution_count": null,
   "id": "3507c49c",
   "metadata": {},
   "outputs": [],
   "source": [
    "data_country.drop(data_missing.index, inplace=True)"
   ]
  },
  {
   "cell_type": "code",
   "execution_count": null,
   "id": "62475b17",
   "metadata": {},
   "outputs": [],
   "source": [
    "data_country"
   ]
  },
  {
   "cell_type": "code",
   "execution_count": null,
   "id": "a45197a6",
   "metadata": {},
   "outputs": [],
   "source": [
    "data_country.isna().sum()"
   ]
  },
  {
   "cell_type": "code",
   "execution_count": null,
   "id": "31366d09",
   "metadata": {},
   "outputs": [],
   "source": [
    "data_country_1=data_sharks.iloc[data_country[(data_country['Country'].isnull())].index]\n",
    "data_country_1"
   ]
  },
  {
   "cell_type": "code",
   "execution_count": null,
   "id": "9bd88a60",
   "metadata": {},
   "outputs": [],
   "source": [
    "data_country_1.Area.unique()"
   ]
  },
  {
   "cell_type": "code",
   "execution_count": null,
   "id": "3b42f122",
   "metadata": {},
   "outputs": [],
   "source": [
    "data_country.Country.unique()"
   ]
  },
  {
   "cell_type": "code",
   "execution_count": null,
   "id": "033fce6f",
   "metadata": {},
   "outputs": [],
   "source": [
    "mapeo_paises = {\n",
    "    'English Channel': 'england',\n",
    "    'Caribbean Sea': 'caribe',\n",
    "    'Between Timor & Darwin, Australia': 'australia',\n",
    "    'Near the Andaman & Nicobar Islands': 'india',\n",
    "    'Between Comores & Madagascar': 'madagascar',\n",
    "    'Off South American coast':'chile',\n",
    "    '300 miles east of St. Thomas (Virgin Islands)': 'usa',\n",
    "    'French Southern Territories': 'france',\n",
    "    'Mediterranean Sea': 'spain',\n",
    "    'Gulf of California': 'mexico',\n",
    "    'Western Banks': 'australia',\n",
    "    'St Helena': 'australia',\n",
    "    'Ionian Sea': 'italy'\n",
    " }\n"
   ]
  },
  {
   "cell_type": "code",
   "execution_count": null,
   "id": "d73b65cc",
   "metadata": {},
   "outputs": [],
   "source": [
    "mapeo_paises.get('St Helena')"
   ]
  },
  {
   "cell_type": "code",
   "execution_count": null,
   "id": "fcb5f124",
   "metadata": {},
   "outputs": [],
   "source": [
    "mapeo_paises.get('australia', 'australia')"
   ]
  },
  {
   "cell_type": "code",
   "execution_count": null,
   "id": "275fee38",
   "metadata": {},
   "outputs": [],
   "source": [
    "data_country_1.Country.apply(lambda x: data_country_1.get(x, x))"
   ]
  },
  {
   "cell_type": "code",
   "execution_count": null,
   "id": "9b6ed8a5",
   "metadata": {},
   "outputs": [],
   "source": [
    "data_country_1"
   ]
  },
  {
   "cell_type": "code",
   "execution_count": null,
   "id": "73c0f409",
   "metadata": {},
   "outputs": [],
   "source": [
    "for i, e in mapeo_paises.items():\n",
    "    if e in data_country_1.Country[e] == NaN:\n",
    "        print()"
   ]
  },
  {
   "cell_type": "code",
   "execution_count": null,
   "id": "7b4024b8",
   "metadata": {},
   "outputs": [],
   "source": [
    "data_country_1['Country'] = data_country_1['Area'].map(mapeo_paises)"
   ]
  },
  {
   "cell_type": "code",
   "execution_count": null,
   "id": "6f87964c",
   "metadata": {},
   "outputs": [],
   "source": [
    "data_country_1"
   ]
  },
  {
   "cell_type": "code",
   "execution_count": null,
   "id": "5b4773aa",
   "metadata": {},
   "outputs": [],
   "source": [
    "for i in range (len(df)):\n",
    "data_country_1.iloc[[0,0]\n"
   ]
  }
 ],
 "metadata": {
  "kernelspec": {
   "display_name": "Python 3 (ipykernel)",
   "language": "python",
   "name": "python3"
  },
  "language_info": {
   "codemirror_mode": {
    "name": "ipython",
    "version": 3
   },
   "file_extension": ".py",
   "mimetype": "text/x-python",
   "name": "python",
   "nbconvert_exporter": "python",
   "pygments_lexer": "ipython3",
   "version": "3.11.5"
  }
 },
 "nbformat": 4,
 "nbformat_minor": 5
}
